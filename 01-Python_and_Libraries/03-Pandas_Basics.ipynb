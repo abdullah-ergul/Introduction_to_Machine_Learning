{
 "cells": [
  {
   "cell_type": "markdown",
   "metadata": {},
   "source": [
    "# PANDAS BASICS"
   ]
  },
  {
   "cell_type": "code",
   "execution_count": 1,
   "metadata": {},
   "outputs": [],
   "source": [
    "import numpy as np \n",
    "import pandas as pd"
   ]
  },
  {
   "cell_type": "code",
   "execution_count": 2,
   "metadata": {},
   "outputs": [
    {
     "data": {
      "text/plain": [
       "(2, 3)"
      ]
     },
     "execution_count": 2,
     "metadata": {},
     "output_type": "execute_result"
    }
   ],
   "source": [
    "t = (1,2,3,4)\n",
    "t[1:3]"
   ]
  },
  {
   "cell_type": "code",
   "execution_count": 3,
   "metadata": {},
   "outputs": [
    {
     "name": "stdout",
     "output_type": "stream",
     "text": [
      "      name   age     note\n",
      "0      ali  12.0    123.0\n",
      "1     veli  34.0    456.0\n",
      "2  zubeyde  56.0     78.0\n",
      "3    ahmet  78.0  87654.0\n",
      "4    kubra   NaN      NaN\n",
      "5      can  12.0     89.0\n"
     ]
    }
   ],
   "source": [
    "dictionary = {  \"name\":[\"ali\",\"veli\",\"zubeyde\",\"ahmet\",\"kubra\",\"can\"],\n",
    "                \"age\":[12,34,56,78,None,12],\n",
    "                \"note\":[123,456,78,87654,None,89]   }\n",
    "dataframe1 = pd.DataFrame(dictionary) \n",
    "print(dataframe1)"
   ]
  },
  {
   "cell_type": "code",
   "execution_count": 4,
   "metadata": {},
   "outputs": [
    {
     "name": "stdout",
     "output_type": "stream",
     "text": [
      "      name   age     note\n",
      "0      ali  12.0    123.0\n",
      "1     veli  34.0    456.0\n",
      "2  zubeyde  56.0     78.0\n",
      "3    ahmet  78.0  87654.0\n",
      "4    kubra   NaN      NaN\n"
     ]
    }
   ],
   "source": [
    "head = dataframe1.head() \n",
    "print(head)"
   ]
  },
  {
   "cell_type": "code",
   "execution_count": 5,
   "metadata": {},
   "outputs": [
    {
     "name": "stdout",
     "output_type": "stream",
     "text": [
      "      name   age     note\n",
      "1     veli  34.0    456.0\n",
      "2  zubeyde  56.0     78.0\n",
      "3    ahmet  78.0  87654.0\n",
      "4    kubra   NaN      NaN\n",
      "5      can  12.0     89.0\n"
     ]
    }
   ],
   "source": [
    "tail = dataframe1.tail()\n",
    "print(tail)"
   ]
  },
  {
   "cell_type": "code",
   "execution_count": 6,
   "metadata": {},
   "outputs": [
    {
     "name": "stdout",
     "output_type": "stream",
     "text": [
      "Index(['name', 'age', 'note'], dtype='object')\n"
     ]
    }
   ],
   "source": [
    "print(dataframe1.columns)"
   ]
  },
  {
   "cell_type": "code",
   "execution_count": 7,
   "metadata": {},
   "outputs": [
    {
     "name": "stdout",
     "output_type": "stream",
     "text": [
      "<class 'pandas.core.frame.DataFrame'>\n",
      "RangeIndex: 6 entries, 0 to 5\n",
      "Data columns (total 3 columns):\n",
      " #   Column  Non-Null Count  Dtype  \n",
      "---  ------  --------------  -----  \n",
      " 0   name    6 non-null      object \n",
      " 1   age     5 non-null      float64\n",
      " 2   note    5 non-null      float64\n",
      "dtypes: float64(2), object(1)\n",
      "memory usage: 276.0+ bytes\n",
      "None\n"
     ]
    }
   ],
   "source": [
    "print(dataframe1.info())"
   ]
  },
  {
   "cell_type": "code",
   "execution_count": 8,
   "metadata": {},
   "outputs": [
    {
     "name": "stdout",
     "output_type": "stream",
     "text": [
      "name     object\n",
      "age     float64\n",
      "note    float64\n",
      "dtype: object\n"
     ]
    }
   ],
   "source": [
    "print(dataframe1.dtypes)"
   ]
  },
  {
   "cell_type": "code",
   "execution_count": 9,
   "metadata": {},
   "outputs": [
    {
     "name": "stdout",
     "output_type": "stream",
     "text": [
      "             age         note\n",
      "count   5.000000      5.00000\n",
      "mean   38.400000  17680.00000\n",
      "std    28.684491  39116.96814\n",
      "min    12.000000     78.00000\n",
      "25%    12.000000     89.00000\n",
      "50%    34.000000    123.00000\n",
      "75%    56.000000    456.00000\n",
      "max    78.000000  87654.00000\n"
     ]
    }
   ],
   "source": [
    "print(dataframe1.describe())"
   ]
  },
  {
   "cell_type": "code",
   "execution_count": 10,
   "metadata": {},
   "outputs": [
    {
     "name": "stdout",
     "output_type": "stream",
     "text": [
      "0        ali\n",
      "1       veli\n",
      "2    zubeyde\n",
      "3      ahmet\n",
      "4      kubra\n",
      "5        can\n",
      "Name: name, dtype: object\n",
      "0    12.0\n",
      "1    34.0\n",
      "2    56.0\n",
      "3    78.0\n",
      "4     NaN\n",
      "5    12.0\n",
      "Name: age, dtype: float64\n",
      "0    12.0\n",
      "1    34.0\n",
      "2    56.0\n",
      "3    78.0\n",
      "Name: age, dtype: float64\n",
      "      name   age     note\n",
      "0      ali  12.0    123.0\n",
      "1     veli  34.0    456.0\n",
      "2  zubeyde  56.0     78.0\n",
      "3    ahmet  78.0  87654.0\n",
      "      name   age     note  new_future\n",
      "5      can  12.0     89.0           6\n",
      "4    kubra   NaN      NaN           5\n",
      "3    ahmet  78.0  87654.0           4\n",
      "2  zubeyde  56.0     78.0           3\n",
      "1     veli  34.0    456.0           2\n",
      "0      ali  12.0    123.0           1\n"
     ]
    }
   ],
   "source": [
    "print(dataframe1[\"name\"]) \n",
    "print(dataframe1.loc[:, \"age\"])            \n",
    "dataframe1[\"new_future\"] = [1,2,3,4,5,6] \n",
    "print(dataframe1.loc[:3,\"age\"])\n",
    "print(dataframe1.loc[:3, \"name\":\"note\"])\n",
    "print(dataframe1.loc[::-1])"
   ]
  },
  {
   "cell_type": "code",
   "execution_count": 11,
   "metadata": {},
   "outputs": [
    {
     "name": "stdout",
     "output_type": "stream",
     "text": [
      "0    1\n",
      "1    2\n",
      "2    3\n",
      "3    4\n",
      "4    5\n",
      "5    6\n",
      "Name: new_future, dtype: int64\n"
     ]
    }
   ],
   "source": [
    "print(dataframe1.loc[:, \"new_future\"]) "
   ]
  },
  {
   "cell_type": "code",
   "execution_count": 12,
   "metadata": {},
   "outputs": [
    {
     "name": "stdout",
     "output_type": "stream",
     "text": [
      "      name     note\n",
      "0      ali    123.0\n",
      "1     veli    456.0\n",
      "2  zubeyde     78.0\n",
      "3    ahmet  87654.0\n"
     ]
    }
   ],
   "source": [
    "print(dataframe1.loc[:3, [\"name\",\"note\"]])"
   ]
  },
  {
   "cell_type": "code",
   "execution_count": 13,
   "metadata": {},
   "outputs": [
    {
     "name": "stdout",
     "output_type": "stream",
     "text": [
      "      name   age\n",
      "0      ali  12.0\n",
      "1     veli  34.0\n",
      "2  zubeyde  56.0\n",
      "3    ahmet  78.0\n",
      "4    kubra   NaN\n",
      "5      can  12.0\n"
     ]
    }
   ],
   "source": [
    "print(dataframe1.loc[:,:\"age\"])"
   ]
  },
  {
   "cell_type": "code",
   "execution_count": 14,
   "metadata": {},
   "outputs": [
    {
     "name": "stdout",
     "output_type": "stream",
     "text": [
      "      note\n",
      "0    123.0\n",
      "1    456.0\n",
      "2     78.0\n",
      "3  87654.0\n",
      "4      NaN\n",
      "5     89.0\n"
     ]
    }
   ],
   "source": [
    "print(dataframe1.iloc[:,[2]])"
   ]
  },
  {
   "cell_type": "code",
   "execution_count": 15,
   "metadata": {},
   "outputs": [
    {
     "name": "stdout",
     "output_type": "stream",
     "text": [
      "    age   bool\n",
      "0  12.0   True\n",
      "1  34.0   True\n",
      "2  56.0   True\n",
      "3  78.0   True\n",
      "4   NaN  False\n",
      "5  12.0   True\n"
     ]
    }
   ],
   "source": [
    "filtre1 = dataframe1.age>10\n",
    "dataframe1[\"bool\"]= filtre1\n",
    "print(dataframe1.loc[:,[\"age\",\"bool\"]])"
   ]
  },
  {
   "cell_type": "code",
   "execution_count": 16,
   "metadata": {},
   "outputs": [
    {
     "data": {
      "text/plain": [
       "pandas.core.series.Series"
      ]
     },
     "execution_count": 16,
     "metadata": {},
     "output_type": "execute_result"
    }
   ],
   "source": [
    "type(filtre1)"
   ]
  },
  {
   "cell_type": "code",
   "execution_count": 17,
   "metadata": {},
   "outputs": [
    {
     "name": "stdout",
     "output_type": "stream",
     "text": [
      "      name   age     note  new_future  bool\n",
      "0      ali  12.0    123.0           1  True\n",
      "1     veli  34.0    456.0           2  True\n",
      "2  zubeyde  56.0     78.0           3  True\n",
      "3    ahmet  78.0  87654.0           4  True\n",
      "5      can  12.0     89.0           6  True\n"
     ]
    }
   ],
   "source": [
    "filtrelenmis_data= dataframe1[filtre1] \n",
    "print(filtrelenmis_data)\n"
   ]
  },
  {
   "cell_type": "code",
   "execution_count": 18,
   "metadata": {},
   "outputs": [
    {
     "name": "stdout",
     "output_type": "stream",
     "text": [
      "    name   age     note  new_future  bool\n",
      "0    ali  12.0    123.0           1  True\n",
      "1   veli  34.0    456.0           2  True\n",
      "3  ahmet  78.0  87654.0           4  True\n"
     ]
    }
   ],
   "source": [
    "filtre2 = dataframe1.note>100\n",
    "filtrelenmis_data2 = dataframe1[filtre2 & filtre1] \n",
    "print(filtrelenmis_data2)\n"
   ]
  },
  {
   "cell_type": "code",
   "execution_count": 19,
   "metadata": {},
   "outputs": [
    {
     "data": {
      "text/html": [
       "<div>\n",
       "<style scoped>\n",
       "    .dataframe tbody tr th:only-of-type {\n",
       "        vertical-align: middle;\n",
       "    }\n",
       "\n",
       "    .dataframe tbody tr th {\n",
       "        vertical-align: top;\n",
       "    }\n",
       "\n",
       "    .dataframe thead th {\n",
       "        text-align: right;\n",
       "    }\n",
       "</style>\n",
       "<table border=\"1\" class=\"dataframe\">\n",
       "  <thead>\n",
       "    <tr style=\"text-align: right;\">\n",
       "      <th></th>\n",
       "      <th>name</th>\n",
       "      <th>age</th>\n",
       "      <th>note</th>\n",
       "      <th>new_future</th>\n",
       "      <th>bool</th>\n",
       "    </tr>\n",
       "  </thead>\n",
       "  <tbody>\n",
       "    <tr>\n",
       "      <th>1</th>\n",
       "      <td>veli</td>\n",
       "      <td>34.0</td>\n",
       "      <td>456.0</td>\n",
       "      <td>2</td>\n",
       "      <td>True</td>\n",
       "    </tr>\n",
       "    <tr>\n",
       "      <th>2</th>\n",
       "      <td>zubeyde</td>\n",
       "      <td>56.0</td>\n",
       "      <td>78.0</td>\n",
       "      <td>3</td>\n",
       "      <td>True</td>\n",
       "    </tr>\n",
       "    <tr>\n",
       "      <th>3</th>\n",
       "      <td>ahmet</td>\n",
       "      <td>78.0</td>\n",
       "      <td>87654.0</td>\n",
       "      <td>4</td>\n",
       "      <td>True</td>\n",
       "    </tr>\n",
       "  </tbody>\n",
       "</table>\n",
       "</div>"
      ],
      "text/plain": [
       "      name   age     note  new_future  bool\n",
       "1     veli  34.0    456.0           2  True\n",
       "2  zubeyde  56.0     78.0           3  True\n",
       "3    ahmet  78.0  87654.0           4  True"
      ]
     },
     "execution_count": 19,
     "metadata": {},
     "output_type": "execute_result"
    }
   ],
   "source": [
    "dataframe1[dataframe1.age>20]"
   ]
  },
  {
   "cell_type": "code",
   "execution_count": 20,
   "metadata": {},
   "outputs": [
    {
     "name": "stdout",
     "output_type": "stream",
     "text": [
      "17680.0\n",
      "17680.0\n"
     ]
    }
   ],
   "source": [
    "mean1 = dataframe1.note.mean()\n",
    "print(mean1)\n",
    "mean_np= np.mean(dataframe1.note) \n",
    "print(mean_np)"
   ]
  },
  {
   "cell_type": "code",
   "execution_count": 21,
   "metadata": {},
   "outputs": [
    {
     "data": {
      "text/html": [
       "<div>\n",
       "<style scoped>\n",
       "    .dataframe tbody tr th:only-of-type {\n",
       "        vertical-align: middle;\n",
       "    }\n",
       "\n",
       "    .dataframe tbody tr th {\n",
       "        vertical-align: top;\n",
       "    }\n",
       "\n",
       "    .dataframe thead th {\n",
       "        text-align: right;\n",
       "    }\n",
       "</style>\n",
       "<table border=\"1\" class=\"dataframe\">\n",
       "  <thead>\n",
       "    <tr style=\"text-align: right;\">\n",
       "      <th></th>\n",
       "      <th>name</th>\n",
       "      <th>age</th>\n",
       "      <th>note</th>\n",
       "      <th>new_future</th>\n",
       "      <th>bool</th>\n",
       "    </tr>\n",
       "  </thead>\n",
       "  <tbody>\n",
       "    <tr>\n",
       "      <th>0</th>\n",
       "      <td>ali</td>\n",
       "      <td>12.0</td>\n",
       "      <td>123.0</td>\n",
       "      <td>1</td>\n",
       "      <td>True</td>\n",
       "    </tr>\n",
       "    <tr>\n",
       "      <th>1</th>\n",
       "      <td>veli</td>\n",
       "      <td>34.0</td>\n",
       "      <td>456.0</td>\n",
       "      <td>2</td>\n",
       "      <td>True</td>\n",
       "    </tr>\n",
       "    <tr>\n",
       "      <th>2</th>\n",
       "      <td>zubeyde</td>\n",
       "      <td>56.0</td>\n",
       "      <td>78.0</td>\n",
       "      <td>3</td>\n",
       "      <td>True</td>\n",
       "    </tr>\n",
       "    <tr>\n",
       "      <th>3</th>\n",
       "      <td>ahmet</td>\n",
       "      <td>78.0</td>\n",
       "      <td>87654.0</td>\n",
       "      <td>4</td>\n",
       "      <td>True</td>\n",
       "    </tr>\n",
       "    <tr>\n",
       "      <th>5</th>\n",
       "      <td>can</td>\n",
       "      <td>12.0</td>\n",
       "      <td>89.0</td>\n",
       "      <td>6</td>\n",
       "      <td>True</td>\n",
       "    </tr>\n",
       "  </tbody>\n",
       "</table>\n",
       "</div>"
      ],
      "text/plain": [
       "      name   age     note  new_future  bool\n",
       "0      ali  12.0    123.0           1  True\n",
       "1     veli  34.0    456.0           2  True\n",
       "2  zubeyde  56.0     78.0           3  True\n",
       "3    ahmet  78.0  87654.0           4  True\n",
       "5      can  12.0     89.0           6  True"
      ]
     },
     "execution_count": 21,
     "metadata": {},
     "output_type": "execute_result"
    }
   ],
   "source": [
    "dataframe1.dropna(inplace=True) \n",
    "dataframe1"
   ]
  },
  {
   "cell_type": "code",
   "execution_count": 22,
   "metadata": {},
   "outputs": [
    {
     "name": "stdout",
     "output_type": "stream",
     "text": [
      "17680.0\n"
     ]
    },
    {
     "data": {
      "text/html": [
       "<div>\n",
       "<style scoped>\n",
       "    .dataframe tbody tr th:only-of-type {\n",
       "        vertical-align: middle;\n",
       "    }\n",
       "\n",
       "    .dataframe tbody tr th {\n",
       "        vertical-align: top;\n",
       "    }\n",
       "\n",
       "    .dataframe thead th {\n",
       "        text-align: right;\n",
       "    }\n",
       "</style>\n",
       "<table border=\"1\" class=\"dataframe\">\n",
       "  <thead>\n",
       "    <tr style=\"text-align: right;\">\n",
       "      <th></th>\n",
       "      <th>name</th>\n",
       "      <th>age</th>\n",
       "      <th>note</th>\n",
       "      <th>new_future</th>\n",
       "      <th>bool</th>\n",
       "      <th>mean</th>\n",
       "    </tr>\n",
       "  </thead>\n",
       "  <tbody>\n",
       "    <tr>\n",
       "      <th>0</th>\n",
       "      <td>ali</td>\n",
       "      <td>12.0</td>\n",
       "      <td>123.0</td>\n",
       "      <td>1</td>\n",
       "      <td>True</td>\n",
       "      <td>bad</td>\n",
       "    </tr>\n",
       "    <tr>\n",
       "      <th>1</th>\n",
       "      <td>veli</td>\n",
       "      <td>34.0</td>\n",
       "      <td>456.0</td>\n",
       "      <td>2</td>\n",
       "      <td>True</td>\n",
       "      <td>bad</td>\n",
       "    </tr>\n",
       "    <tr>\n",
       "      <th>2</th>\n",
       "      <td>zubeyde</td>\n",
       "      <td>56.0</td>\n",
       "      <td>78.0</td>\n",
       "      <td>3</td>\n",
       "      <td>True</td>\n",
       "      <td>bad</td>\n",
       "    </tr>\n",
       "    <tr>\n",
       "      <th>3</th>\n",
       "      <td>ahmet</td>\n",
       "      <td>78.0</td>\n",
       "      <td>87654.0</td>\n",
       "      <td>4</td>\n",
       "      <td>True</td>\n",
       "      <td>good</td>\n",
       "    </tr>\n",
       "    <tr>\n",
       "      <th>5</th>\n",
       "      <td>can</td>\n",
       "      <td>12.0</td>\n",
       "      <td>89.0</td>\n",
       "      <td>6</td>\n",
       "      <td>True</td>\n",
       "      <td>bad</td>\n",
       "    </tr>\n",
       "  </tbody>\n",
       "</table>\n",
       "</div>"
      ],
      "text/plain": [
       "      name   age     note  new_future  bool  mean\n",
       "0      ali  12.0    123.0           1  True   bad\n",
       "1     veli  34.0    456.0           2  True   bad\n",
       "2  zubeyde  56.0     78.0           3  True   bad\n",
       "3    ahmet  78.0  87654.0           4  True  good\n",
       "5      can  12.0     89.0           6  True   bad"
      ]
     },
     "execution_count": 22,
     "metadata": {},
     "output_type": "execute_result"
    }
   ],
   "source": [
    "print(dataframe1.note.mean())\n",
    "dataframe1[\"mean\"] = [\"bad\" if dataframe1.note.mean()>each else \"good\" for each in dataframe1.note]\n",
    "dataframe1"
   ]
  },
  {
   "cell_type": "code",
   "execution_count": 23,
   "metadata": {},
   "outputs": [
    {
     "data": {
      "text/plain": [
       "Index(['NAME', 'AGE', 'NOTE', 'NEW_FUTURE', 'BOOL', 'MEAN'], dtype='object')"
      ]
     },
     "execution_count": 23,
     "metadata": {},
     "output_type": "execute_result"
    }
   ],
   "source": [
    "dataframe1.columns = [each.upper() for each in dataframe1.columns] \n",
    "\n",
    "dataframe1.columns"
   ]
  },
  {
   "cell_type": "code",
   "execution_count": 24,
   "metadata": {},
   "outputs": [
    {
     "data": {
      "text/html": [
       "<div>\n",
       "<style scoped>\n",
       "    .dataframe tbody tr th:only-of-type {\n",
       "        vertical-align: middle;\n",
       "    }\n",
       "\n",
       "    .dataframe tbody tr th {\n",
       "        vertical-align: top;\n",
       "    }\n",
       "\n",
       "    .dataframe thead th {\n",
       "        text-align: right;\n",
       "    }\n",
       "</style>\n",
       "<table border=\"1\" class=\"dataframe\">\n",
       "  <thead>\n",
       "    <tr style=\"text-align: right;\">\n",
       "      <th></th>\n",
       "      <th>NAME</th>\n",
       "      <th>AGE</th>\n",
       "      <th>NOTE</th>\n",
       "      <th>BOOL</th>\n",
       "      <th>MEAN</th>\n",
       "    </tr>\n",
       "  </thead>\n",
       "  <tbody>\n",
       "    <tr>\n",
       "      <th>0</th>\n",
       "      <td>ali</td>\n",
       "      <td>12.0</td>\n",
       "      <td>123.0</td>\n",
       "      <td>True</td>\n",
       "      <td>bad</td>\n",
       "    </tr>\n",
       "    <tr>\n",
       "      <th>1</th>\n",
       "      <td>veli</td>\n",
       "      <td>34.0</td>\n",
       "      <td>456.0</td>\n",
       "      <td>True</td>\n",
       "      <td>bad</td>\n",
       "    </tr>\n",
       "    <tr>\n",
       "      <th>2</th>\n",
       "      <td>zubeyde</td>\n",
       "      <td>56.0</td>\n",
       "      <td>78.0</td>\n",
       "      <td>True</td>\n",
       "      <td>bad</td>\n",
       "    </tr>\n",
       "    <tr>\n",
       "      <th>3</th>\n",
       "      <td>ahmet</td>\n",
       "      <td>78.0</td>\n",
       "      <td>87654.0</td>\n",
       "      <td>True</td>\n",
       "      <td>good</td>\n",
       "    </tr>\n",
       "    <tr>\n",
       "      <th>5</th>\n",
       "      <td>can</td>\n",
       "      <td>12.0</td>\n",
       "      <td>89.0</td>\n",
       "      <td>True</td>\n",
       "      <td>bad</td>\n",
       "    </tr>\n",
       "  </tbody>\n",
       "</table>\n",
       "</div>"
      ],
      "text/plain": [
       "      NAME   AGE     NOTE  BOOL  MEAN\n",
       "0      ali  12.0    123.0  True   bad\n",
       "1     veli  34.0    456.0  True   bad\n",
       "2  zubeyde  56.0     78.0  True   bad\n",
       "3    ahmet  78.0  87654.0  True  good\n",
       "5      can  12.0     89.0  True   bad"
      ]
     },
     "execution_count": 24,
     "metadata": {},
     "output_type": "execute_result"
    }
   ],
   "source": [
    "dataframe1.drop([\"NEW_FUTURE\"],axis=1,inplace=True)\n",
    "dataframe1"
   ]
  },
  {
   "cell_type": "code",
   "execution_count": 25,
   "metadata": {},
   "outputs": [
    {
     "data": {
      "text/html": [
       "<div>\n",
       "<style scoped>\n",
       "    .dataframe tbody tr th:only-of-type {\n",
       "        vertical-align: middle;\n",
       "    }\n",
       "\n",
       "    .dataframe tbody tr th {\n",
       "        vertical-align: top;\n",
       "    }\n",
       "\n",
       "    .dataframe thead th {\n",
       "        text-align: right;\n",
       "    }\n",
       "</style>\n",
       "<table border=\"1\" class=\"dataframe\">\n",
       "  <thead>\n",
       "    <tr style=\"text-align: right;\">\n",
       "      <th></th>\n",
       "      <th>NAME</th>\n",
       "      <th>AGE</th>\n",
       "      <th>NOTE</th>\n",
       "      <th>BOOL</th>\n",
       "      <th>MEAN</th>\n",
       "    </tr>\n",
       "  </thead>\n",
       "  <tbody>\n",
       "    <tr>\n",
       "      <th>0</th>\n",
       "      <td>ali</td>\n",
       "      <td>12.0</td>\n",
       "      <td>123.0</td>\n",
       "      <td>True</td>\n",
       "      <td>bad</td>\n",
       "    </tr>\n",
       "    <tr>\n",
       "      <th>1</th>\n",
       "      <td>veli</td>\n",
       "      <td>34.0</td>\n",
       "      <td>456.0</td>\n",
       "      <td>True</td>\n",
       "      <td>bad</td>\n",
       "    </tr>\n",
       "    <tr>\n",
       "      <th>2</th>\n",
       "      <td>zubeyde</td>\n",
       "      <td>56.0</td>\n",
       "      <td>78.0</td>\n",
       "      <td>True</td>\n",
       "      <td>bad</td>\n",
       "    </tr>\n",
       "    <tr>\n",
       "      <th>3</th>\n",
       "      <td>ahmet</td>\n",
       "      <td>78.0</td>\n",
       "      <td>87654.0</td>\n",
       "      <td>True</td>\n",
       "      <td>good</td>\n",
       "    </tr>\n",
       "    <tr>\n",
       "      <th>5</th>\n",
       "      <td>can</td>\n",
       "      <td>12.0</td>\n",
       "      <td>89.0</td>\n",
       "      <td>True</td>\n",
       "      <td>bad</td>\n",
       "    </tr>\n",
       "    <tr>\n",
       "      <th>0</th>\n",
       "      <td>ali</td>\n",
       "      <td>12.0</td>\n",
       "      <td>123.0</td>\n",
       "      <td>True</td>\n",
       "      <td>bad</td>\n",
       "    </tr>\n",
       "    <tr>\n",
       "      <th>1</th>\n",
       "      <td>veli</td>\n",
       "      <td>34.0</td>\n",
       "      <td>456.0</td>\n",
       "      <td>True</td>\n",
       "      <td>bad</td>\n",
       "    </tr>\n",
       "    <tr>\n",
       "      <th>2</th>\n",
       "      <td>zubeyde</td>\n",
       "      <td>56.0</td>\n",
       "      <td>78.0</td>\n",
       "      <td>True</td>\n",
       "      <td>bad</td>\n",
       "    </tr>\n",
       "    <tr>\n",
       "      <th>3</th>\n",
       "      <td>ahmet</td>\n",
       "      <td>78.0</td>\n",
       "      <td>87654.0</td>\n",
       "      <td>True</td>\n",
       "      <td>good</td>\n",
       "    </tr>\n",
       "    <tr>\n",
       "      <th>5</th>\n",
       "      <td>can</td>\n",
       "      <td>12.0</td>\n",
       "      <td>89.0</td>\n",
       "      <td>True</td>\n",
       "      <td>bad</td>\n",
       "    </tr>\n",
       "  </tbody>\n",
       "</table>\n",
       "</div>"
      ],
      "text/plain": [
       "      NAME   AGE     NOTE  BOOL  MEAN\n",
       "0      ali  12.0    123.0  True   bad\n",
       "1     veli  34.0    456.0  True   bad\n",
       "2  zubeyde  56.0     78.0  True   bad\n",
       "3    ahmet  78.0  87654.0  True  good\n",
       "5      can  12.0     89.0  True   bad\n",
       "0      ali  12.0    123.0  True   bad\n",
       "1     veli  34.0    456.0  True   bad\n",
       "2  zubeyde  56.0     78.0  True   bad\n",
       "3    ahmet  78.0  87654.0  True  good\n",
       "5      can  12.0     89.0  True   bad"
      ]
     },
     "execution_count": 25,
     "metadata": {},
     "output_type": "execute_result"
    }
   ],
   "source": [
    "data1 = dataframe1.head()     \n",
    "data2 = dataframe1.tail()\n",
    "data_concat = pd.concat([data1,data2],axis=0)\n",
    "data_concat"
   ]
  },
  {
   "cell_type": "code",
   "execution_count": 26,
   "metadata": {},
   "outputs": [
    {
     "data": {
      "text/html": [
       "<div>\n",
       "<style scoped>\n",
       "    .dataframe tbody tr th:only-of-type {\n",
       "        vertical-align: middle;\n",
       "    }\n",
       "\n",
       "    .dataframe tbody tr th {\n",
       "        vertical-align: top;\n",
       "    }\n",
       "\n",
       "    .dataframe thead th {\n",
       "        text-align: right;\n",
       "    }\n",
       "</style>\n",
       "<table border=\"1\" class=\"dataframe\">\n",
       "  <thead>\n",
       "    <tr style=\"text-align: right;\">\n",
       "      <th></th>\n",
       "      <th>NAME</th>\n",
       "      <th>AGE</th>\n",
       "      <th>NOTE</th>\n",
       "      <th>BOOL</th>\n",
       "      <th>MEAN</th>\n",
       "      <th>NAME</th>\n",
       "      <th>AGE</th>\n",
       "      <th>NOTE</th>\n",
       "      <th>BOOL</th>\n",
       "      <th>MEAN</th>\n",
       "    </tr>\n",
       "  </thead>\n",
       "  <tbody>\n",
       "    <tr>\n",
       "      <th>0</th>\n",
       "      <td>ali</td>\n",
       "      <td>12.0</td>\n",
       "      <td>123.0</td>\n",
       "      <td>True</td>\n",
       "      <td>bad</td>\n",
       "      <td>ali</td>\n",
       "      <td>12.0</td>\n",
       "      <td>123.0</td>\n",
       "      <td>True</td>\n",
       "      <td>bad</td>\n",
       "    </tr>\n",
       "    <tr>\n",
       "      <th>1</th>\n",
       "      <td>veli</td>\n",
       "      <td>34.0</td>\n",
       "      <td>456.0</td>\n",
       "      <td>True</td>\n",
       "      <td>bad</td>\n",
       "      <td>veli</td>\n",
       "      <td>34.0</td>\n",
       "      <td>456.0</td>\n",
       "      <td>True</td>\n",
       "      <td>bad</td>\n",
       "    </tr>\n",
       "    <tr>\n",
       "      <th>2</th>\n",
       "      <td>zubeyde</td>\n",
       "      <td>56.0</td>\n",
       "      <td>78.0</td>\n",
       "      <td>True</td>\n",
       "      <td>bad</td>\n",
       "      <td>zubeyde</td>\n",
       "      <td>56.0</td>\n",
       "      <td>78.0</td>\n",
       "      <td>True</td>\n",
       "      <td>bad</td>\n",
       "    </tr>\n",
       "    <tr>\n",
       "      <th>3</th>\n",
       "      <td>ahmet</td>\n",
       "      <td>78.0</td>\n",
       "      <td>87654.0</td>\n",
       "      <td>True</td>\n",
       "      <td>good</td>\n",
       "      <td>ahmet</td>\n",
       "      <td>78.0</td>\n",
       "      <td>87654.0</td>\n",
       "      <td>True</td>\n",
       "      <td>good</td>\n",
       "    </tr>\n",
       "    <tr>\n",
       "      <th>5</th>\n",
       "      <td>can</td>\n",
       "      <td>12.0</td>\n",
       "      <td>89.0</td>\n",
       "      <td>True</td>\n",
       "      <td>bad</td>\n",
       "      <td>can</td>\n",
       "      <td>12.0</td>\n",
       "      <td>89.0</td>\n",
       "      <td>True</td>\n",
       "      <td>bad</td>\n",
       "    </tr>\n",
       "  </tbody>\n",
       "</table>\n",
       "</div>"
      ],
      "text/plain": [
       "      NAME   AGE     NOTE  BOOL  MEAN     NAME   AGE     NOTE  BOOL  MEAN\n",
       "0      ali  12.0    123.0  True   bad      ali  12.0    123.0  True   bad\n",
       "1     veli  34.0    456.0  True   bad     veli  34.0    456.0  True   bad\n",
       "2  zubeyde  56.0     78.0  True   bad  zubeyde  56.0     78.0  True   bad\n",
       "3    ahmet  78.0  87654.0  True  good    ahmet  78.0  87654.0  True  good\n",
       "5      can  12.0     89.0  True   bad      can  12.0     89.0  True   bad"
      ]
     },
     "execution_count": 26,
     "metadata": {},
     "output_type": "execute_result"
    }
   ],
   "source": [
    "data_contact2 = pd.concat([data1,data2],axis=1)\n",
    "data_contact2"
   ]
  },
  {
   "cell_type": "code",
   "execution_count": 27,
   "metadata": {},
   "outputs": [
    {
     "data": {
      "text/html": [
       "<div>\n",
       "<style scoped>\n",
       "    .dataframe tbody tr th:only-of-type {\n",
       "        vertical-align: middle;\n",
       "    }\n",
       "\n",
       "    .dataframe tbody tr th {\n",
       "        vertical-align: top;\n",
       "    }\n",
       "\n",
       "    .dataframe thead th {\n",
       "        text-align: right;\n",
       "    }\n",
       "</style>\n",
       "<table border=\"1\" class=\"dataframe\">\n",
       "  <thead>\n",
       "    <tr style=\"text-align: right;\">\n",
       "      <th></th>\n",
       "      <th>NAME</th>\n",
       "      <th>AGE</th>\n",
       "      <th>NOTE</th>\n",
       "      <th>BOOL</th>\n",
       "      <th>MEAN</th>\n",
       "      <th>new_age</th>\n",
       "    </tr>\n",
       "  </thead>\n",
       "  <tbody>\n",
       "    <tr>\n",
       "      <th>0</th>\n",
       "      <td>ali</td>\n",
       "      <td>12.0</td>\n",
       "      <td>123.0</td>\n",
       "      <td>True</td>\n",
       "      <td>bad</td>\n",
       "      <td>24.0</td>\n",
       "    </tr>\n",
       "    <tr>\n",
       "      <th>1</th>\n",
       "      <td>veli</td>\n",
       "      <td>34.0</td>\n",
       "      <td>456.0</td>\n",
       "      <td>True</td>\n",
       "      <td>bad</td>\n",
       "      <td>68.0</td>\n",
       "    </tr>\n",
       "    <tr>\n",
       "      <th>2</th>\n",
       "      <td>zubeyde</td>\n",
       "      <td>56.0</td>\n",
       "      <td>78.0</td>\n",
       "      <td>True</td>\n",
       "      <td>bad</td>\n",
       "      <td>112.0</td>\n",
       "    </tr>\n",
       "    <tr>\n",
       "      <th>3</th>\n",
       "      <td>ahmet</td>\n",
       "      <td>78.0</td>\n",
       "      <td>87654.0</td>\n",
       "      <td>True</td>\n",
       "      <td>good</td>\n",
       "      <td>156.0</td>\n",
       "    </tr>\n",
       "    <tr>\n",
       "      <th>5</th>\n",
       "      <td>can</td>\n",
       "      <td>12.0</td>\n",
       "      <td>89.0</td>\n",
       "      <td>True</td>\n",
       "      <td>bad</td>\n",
       "      <td>24.0</td>\n",
       "    </tr>\n",
       "  </tbody>\n",
       "</table>\n",
       "</div>"
      ],
      "text/plain": [
       "      NAME   AGE     NOTE  BOOL  MEAN  new_age\n",
       "0      ali  12.0    123.0  True   bad     24.0\n",
       "1     veli  34.0    456.0  True   bad     68.0\n",
       "2  zubeyde  56.0     78.0  True   bad    112.0\n",
       "3    ahmet  78.0  87654.0  True  good    156.0\n",
       "5      can  12.0     89.0  True   bad     24.0"
      ]
     },
     "execution_count": 27,
     "metadata": {},
     "output_type": "execute_result"
    }
   ],
   "source": [
    "dataframe1[\"new_age\"] = [each*2 for each in dataframe1.AGE]\n",
    "dataframe1"
   ]
  }
 ],
 "metadata": {
  "kernelspec": {
   "display_name": "Python 3",
   "language": "python",
   "name": "python3"
  },
  "language_info": {
   "codemirror_mode": {
    "name": "ipython",
    "version": 3
   },
   "file_extension": ".py",
   "mimetype": "text/x-python",
   "name": "python",
   "nbconvert_exporter": "python",
   "pygments_lexer": "ipython3",
   "version": "3.12.2"
  }
 },
 "nbformat": 4,
 "nbformat_minor": 2
}
