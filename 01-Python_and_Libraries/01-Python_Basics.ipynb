{
 "cells": [
  {
   "cell_type": "markdown",
   "id": "f95b2725",
   "metadata": {},
   "source": [
    "# PYTHON BASICS"
   ]
  },
  {
   "cell_type": "code",
   "execution_count": 1,
   "id": "67bba9d3",
   "metadata": {},
   "outputs": [],
   "source": [
    "# This sign makes the comment line (#)\n",
    "# Shift+enter to run the code and add another block of code\n",
    "# If you want to add a title,you should change code style to markdown\n",
    "# For bold header you can use this **title**"
   ]
  },
  {
   "cell_type": "markdown",
   "id": "672e0bdf",
   "metadata": {},
   "source": [
    "# Some Basic Examples"
   ]
  },
  {
   "cell_type": "code",
   "execution_count": 2,
   "id": "bc07d3b1",
   "metadata": {},
   "outputs": [
    {
     "name": "stdout",
     "output_type": "stream",
     "text": [
      "10\n",
      "20\n",
      "monday\n"
     ]
    },
    {
     "data": {
      "text/plain": [
       "str"
      ]
     },
     "execution_count": 2,
     "metadata": {},
     "output_type": "execute_result"
    }
   ],
   "source": [
    "var1 = 10\n",
    "var2 = 20\n",
    "var3 = \"monday\"\n",
    "\n",
    "print(var1)\n",
    "print(var2)\n",
    "print(var3)\n",
    "type(var3)"
   ]
  },
  {
   "cell_type": "markdown",
   "id": "35ef05be",
   "metadata": {},
   "source": [
    "# Lists"
   ]
  },
  {
   "cell_type": "code",
   "execution_count": 3,
   "id": "6e2a801d",
   "metadata": {},
   "outputs": [
    {
     "name": "stdout",
     "output_type": "stream",
     "text": [
      "[10, 20, 30]\n"
     ]
    }
   ],
   "source": [
    "var1 = 10\n",
    "var2 = 20\n",
    "var3 = 30\n",
    "list_int = [var1, var2, var3]  # or -> list_int = [10, 20, 30]\n",
    "print(list_int)"
   ]
  },
  {
   "cell_type": "code",
   "execution_count": 4,
   "id": "8dafa77e",
   "metadata": {},
   "outputs": [
    {
     "data": {
      "text/plain": [
       "10"
      ]
     },
     "execution_count": 4,
     "metadata": {},
     "output_type": "execute_result"
    }
   ],
   "source": [
    "# First element of the list\n",
    "list_int[0]"
   ]
  },
  {
   "cell_type": "code",
   "execution_count": 5,
   "id": "c0dce02d",
   "metadata": {},
   "outputs": [
    {
     "data": {
      "text/plain": [
       "30"
      ]
     },
     "execution_count": 5,
     "metadata": {},
     "output_type": "execute_result"
    }
   ],
   "source": [
    "# Last element of the list\n",
    "list_int[-1]"
   ]
  },
  {
   "cell_type": "code",
   "execution_count": 6,
   "id": "58e1999d",
   "metadata": {},
   "outputs": [
    {
     "data": {
      "text/plain": [
       "[10, 20, 30]"
      ]
     },
     "execution_count": 6,
     "metadata": {},
     "output_type": "execute_result"
    }
   ],
   "source": [
    "# Variables in the range of list\n",
    "list_int[0:3]"
   ]
  },
  {
   "cell_type": "code",
   "execution_count": 7,
   "id": "d479ab47",
   "metadata": {},
   "outputs": [
    {
     "name": "stdout",
     "output_type": "stream",
     "text": [
      "[10, 20, 30, 25]\n"
     ]
    }
   ],
   "source": [
    "# Add variables to the list\n",
    "list_int.append(25)\n",
    "print(list_int)"
   ]
  },
  {
   "cell_type": "code",
   "execution_count": 8,
   "id": "e85fad4d",
   "metadata": {},
   "outputs": [
    {
     "name": "stdout",
     "output_type": "stream",
     "text": [
      "[10, 20, 30]\n"
     ]
    }
   ],
   "source": [
    "# Delete variables to the list \n",
    "list_int.remove(25)\n",
    "print(list_int)"
   ]
  },
  {
   "cell_type": "code",
   "execution_count": 9,
   "id": "0ded0216",
   "metadata": {},
   "outputs": [
    {
     "name": "stdout",
     "output_type": "stream",
     "text": [
      "[30, 20, 10]\n"
     ]
    }
   ],
   "source": [
    "# Print the list in reverse\n",
    "list_int.reverse()\n",
    "print(list_int)"
   ]
  },
  {
   "cell_type": "code",
   "execution_count": 10,
   "id": "c79fbacf",
   "metadata": {
    "scrolled": false
   },
   "outputs": [
    {
     "name": "stdout",
     "output_type": "stream",
     "text": [
      "[10, 20, 30]\n"
     ]
    }
   ],
   "source": [
    "# Sort the list from smallest to largest\n",
    "list_int.sort()\n",
    "print(list_int)"
   ]
  },
  {
   "cell_type": "markdown",
   "id": "838bb471",
   "metadata": {},
   "source": [
    "# Control Statements & Loops"
   ]
  },
  {
   "cell_type": "code",
   "execution_count": 11,
   "id": "b757ccbf",
   "metadata": {},
   "outputs": [
    {
     "name": "stdout",
     "output_type": "stream",
     "text": [
      "30\n"
     ]
    }
   ],
   "source": [
    "# Find maximum element with for loop\n",
    "x = 10\n",
    "for each in list_int:\n",
    "    if each > x:\n",
    "        x = each\n",
    "    else:\n",
    "        continue\n",
    "    \n",
    "print(x)"
   ]
  },
  {
   "cell_type": "code",
   "execution_count": 12,
   "id": "31269ef5",
   "metadata": {},
   "outputs": [
    {
     "name": "stdout",
     "output_type": "stream",
     "text": [
      "0\n",
      "1\n",
      "2\n",
      "3\n",
      "4\n"
     ]
    }
   ],
   "source": [
    "# Print from 0 to 5 with while loop (5 is not included)\n",
    "i = 0\n",
    "while i<5:\n",
    "    print(i)\n",
    "    i = i+1"
   ]
  },
  {
   "cell_type": "markdown",
   "id": "12325551",
   "metadata": {},
   "source": [
    "# Functions"
   ]
  },
  {
   "cell_type": "code",
   "execution_count": 13,
   "id": "12bc90ee",
   "metadata": {},
   "outputs": [
    {
     "data": {
      "text/plain": [
       "12.56"
      ]
     },
     "execution_count": 13,
     "metadata": {},
     "output_type": "execute_result"
    }
   ],
   "source": [
    "# Use function\n",
    "def circumference(r, pi=3.14):  #Pi is default value\n",
    "    return 2*pi*r\n",
    "\n",
    "circumference(2)                #to send value"
   ]
  },
  {
   "cell_type": "code",
   "execution_count": 14,
   "id": "779a4674",
   "metadata": {},
   "outputs": [
    {
     "data": {
      "text/plain": [
       "25"
      ]
     },
     "execution_count": 14,
     "metadata": {},
     "output_type": "execute_result"
    }
   ],
   "source": [
    "# Another example for function\n",
    "def calculate(x):\n",
    "    return x*x\n",
    "\n",
    "calculate(5)"
   ]
  },
  {
   "cell_type": "code",
   "execution_count": 15,
   "id": "8df87db0",
   "metadata": {},
   "outputs": [
    {
     "name": "stdout",
     "output_type": "stream",
     "text": [
      "25\n"
     ]
    }
   ],
   "source": [
    "# Shorter way to use function is lambda \n",
    "result = lambda x : x*x\n",
    "print(result(5))"
   ]
  },
  {
   "cell_type": "markdown",
   "id": "5ddf7171",
   "metadata": {},
   "source": [
    "# Directories"
   ]
  },
  {
   "cell_type": "code",
   "execution_count": 16,
   "id": "268fd7bf",
   "metadata": {},
   "outputs": [
    {
     "name": "stdout",
     "output_type": "stream",
     "text": [
      "{'name': 'Abdullah', 'age': 22, 'grade': 3}\n"
     ]
    }
   ],
   "source": [
    "#to use dictionary\n",
    "dictionary = {\"name\":\"Abdullah\", \"age\":22, \"grade\":3}  # keys & values\n",
    "print(dictionary)"
   ]
  },
  {
   "cell_type": "code",
   "execution_count": 17,
   "id": "6b4f34b6",
   "metadata": {},
   "outputs": [
    {
     "data": {
      "text/plain": [
       "dict"
      ]
     },
     "execution_count": 17,
     "metadata": {},
     "output_type": "execute_result"
    }
   ],
   "source": [
    "type(dictionary)"
   ]
  },
  {
   "cell_type": "code",
   "execution_count": 18,
   "id": "8e47beef",
   "metadata": {},
   "outputs": [
    {
     "data": {
      "text/plain": [
       "dict_keys(['name', 'age', 'grade'])"
      ]
     },
     "execution_count": 18,
     "metadata": {},
     "output_type": "execute_result"
    }
   ],
   "source": [
    "dictionary.keys()   "
   ]
  },
  {
   "cell_type": "code",
   "execution_count": 19,
   "id": "f67df369",
   "metadata": {},
   "outputs": [
    {
     "data": {
      "text/plain": [
       "dict_values(['Abdullah', 22, 3])"
      ]
     },
     "execution_count": 19,
     "metadata": {},
     "output_type": "execute_result"
    }
   ],
   "source": [
    "dictionary.values()"
   ]
  },
  {
   "cell_type": "code",
   "execution_count": 20,
   "id": "85f8a1cf",
   "metadata": {},
   "outputs": [
    {
     "name": "stdout",
     "output_type": "stream",
     "text": [
      "no\n"
     ]
    }
   ],
   "source": [
    "# Find out if the keys is in the dictionary\n",
    "b = dictionary.keys()\n",
    "\n",
    "if \"Abdullah\" in b:\n",
    "    print(\"yes\")\n",
    "else:\n",
    "    print(\"no\")"
   ]
  }
 ],
 "metadata": {
  "kernelspec": {
   "display_name": "Python 3 (ipykernel)",
   "language": "python",
   "name": "python3"
  },
  "language_info": {
   "codemirror_mode": {
    "name": "ipython",
    "version": 3
   },
   "file_extension": ".py",
   "mimetype": "text/x-python",
   "name": "python",
   "nbconvert_exporter": "python",
   "pygments_lexer": "ipython3",
   "version": "3.12.2"
  }
 },
 "nbformat": 4,
 "nbformat_minor": 5
}
